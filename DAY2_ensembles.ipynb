{
 "cells": [
  {
   "cell_type": "markdown",
   "id": "73c3bc30",
   "metadata": {},
   "source": [
    "# DAY 2: Ensembes - Excersice 1. \n",
    "Basics on how to use a notebook: \n",
    "<br>\n",
    "  &nbsp; - A cell is the box that outlines a section of text.<br>\n",
    " &nbsp;   - Press shift+enter to run a cell. <br>\n",
    " &nbsp;   - Outputs from a cell are posted below a cell.<br>\n",
    "  &nbsp;  - Some cells will not have any output.<br>\n",
    "If a cell fails to function or the output isnt as expected, try running all the cells from the start in order using the run all button at the top. "
   ]
  },
  {
   "cell_type": "code",
   "execution_count": 77,
   "id": "58a6d81a",
   "metadata": {},
   "outputs": [],
   "source": [
    "#This imports math functions used within the code. These functions well be explained as the notebook goes on. \n",
    "import numpy as np\n",
    "import matplotlib.pyplot as plt"
   ]
  },
  {
   "cell_type": "code",
   "execution_count": 61,
   "id": "58a0dcae",
   "metadata": {},
   "outputs": [],
   "source": [
    "#Below is an array. This is a list where every item in that list is indexed by its position starting at 0\n",
    "date = ([1993,1994,1995,1996,1997,1998,1999,2000,2001,2002,2003,2004,2005,2006,2007,2008,2009,2010,2011,2012,2013,2014,2015,2016])\n",
    "#In this case 0-23\n",
    "#The Array contains the years 1993-2016\n",
    "\n",
    "\n",
    "#This second Array contains the values for average rainfall per day for each year in Kenya. \n",
    "RFA = ([1.52,2.93,1.95,1.51,5.56,1.33,2.04,2.34,1.99,2.95,1.90,2.40,1.15,4.31,1.83,1.98,2.65,1.55,3.86,2.72,2.25,2.31,3.13,1.70])\n",
    "#These values correspond to the years in the first Array. "
   ]
  },
  {
   "cell_type": "markdown",
   "id": "9ccc7cd2",
   "metadata": {},
   "source": [
    "### The Climate Mean:\n",
    "<br>\n",
    "The mean in statistics is equal to the total sum of all the values in a dataset divided by the number of items. \n",
    "<br>\n",
    "The climate is the long-term weather pattern of a specific area. \n",
    "<br>\n",
    "<br>\n",
    "The Climate Mean therefore in this case is the mean rainfall for the years in the first array. "
   ]
  },
  {
   "cell_type": "code",
   "execution_count": 62,
   "id": "5641297a",
   "metadata": {},
   "outputs": [
    {
     "name": "stdout",
     "output_type": "stream",
     "text": [
      "the total sum of all values in RFA: 57.85999999999999\n"
     ]
    }
   ],
   "source": [
    "#So Array 2 - is called RFA or Rain Fall Average. \n",
    "#It's values represent the average rainfall per day for each year between 1993-2016\n",
    "\n",
    "#To caulate the climate mean we must first add all the values in RFA\n",
    "\n",
    "add_all_values_in_RFA = (1.52+2.93+1.95+1.51+5.56+1.33+2.04+2.34+1.99+2.95+1.90+2.40+1.15+4.31+1.83+1.98+2.65+1.55+3.86+2.72+2.25+2.31+3.13+1.70)\n",
    "print(\"the total sum of all values in RFA:\",add_all_values_in_RFA) "
   ]
  },
  {
   "cell_type": "markdown",
   "id": "ea1f763a",
   "metadata": {},
   "source": [
    "#### Shortcuts with Python: \n",
    "<br>\n",
    "In the cell above we manually added all the elements with the '+' sign \n",
    "<br>\n",
    "This can be done faster by using pre-existing python functions.\n",
    "<br>\n",
    "For example we will use np.sum. \n",
    "<br>\n",
    "np is the name of the package the function is in, sum is what the function does. <br>\n",
    "After the np.sum is a pair of brackets (), this tells you what the function will be applied on."
   ]
  },
  {
   "cell_type": "code",
   "execution_count": 63,
   "id": "6b9aed71",
   "metadata": {},
   "outputs": [
    {
     "name": "stdout",
     "output_type": "stream",
     "text": [
      "the total sum of all values in RFA: 57.86\n"
     ]
    }
   ],
   "source": [
    "add_all_values_in_RFA = np.sum(RFA)\n",
    "print(\"the total sum of all values in RFA:\",add_all_values_in_RFA) "
   ]
  },
  {
   "cell_type": "markdown",
   "id": "df96966e",
   "metadata": {},
   "source": [
    "As you can see the values come out the same, with the second one rounded. <br> <br>\n",
    "\n",
    "To continue working out the Climate Mean we must now divide by the number of values or elements in RFA. <br>\n",
    "This is 24."
   ]
  },
  {
   "cell_type": "code",
   "execution_count": 64,
   "id": "72c8d27b",
   "metadata": {},
   "outputs": [
    {
     "name": "stdout",
     "output_type": "stream",
     "text": [
      "This is the Climate Mean: 2.410833333333333 mm/day\n"
     ]
    }
   ],
   "source": [
    "Climate_Mean = add_all_values_in_RFA / 24\n",
    "print(\"This is the Climate Mean:\",Climate_Mean,\"mm/day\")\n"
   ]
  },
  {
   "cell_type": "markdown",
   "id": "6af341f4",
   "metadata": {},
   "source": [
    "**The Climate Mean = 2.4 mm of rainfall per a day over all of Kenya** <br>\n",
    "To further indicate how python can speed up this proccess we will now use another function: <br>\n",
    "np.mean()"
   ]
  },
  {
   "cell_type": "code",
   "execution_count": 65,
   "id": "9962a6a4",
   "metadata": {},
   "outputs": [
    {
     "name": "stdout",
     "output_type": "stream",
     "text": [
      "This is the np.mean() version of the Climate Mean: 2.410833333333333 mm/day\n"
     ]
    }
   ],
   "source": [
    "# This function np.mean will repeat all of the steps we did to calculate the mean and return the same output.\n",
    "\n",
    "#Here is the orignial average rainfall per day dataset again\n",
    "RFA = [1.52,2.93,1.95,1.51,5.56,1.33,2.04,2.34,1.99,2.95,1.90,2.40,1.15,4.31,1.83,1.98,2.65,1.55,3.86,2.72,2.25,2.31,3.13,1.70]\n",
    "\n",
    "Climate_Mean = np.mean(RFA)\n",
    "\n",
    "print(\"This is the np.mean() version of the Climate Mean:\", Climate_Mean, \"mm/day\")\n",
    "\n"
   ]
  },
  {
   "cell_type": "markdown",
   "id": "78722af9",
   "metadata": {},
   "source": [
    "From here on out we will now use the pre-formed python functions to calculate statistical measures.<br>\n",
    "\n"
   ]
  },
  {
   "cell_type": "markdown",
   "id": "210d9a9e",
   "metadata": {},
   "source": [
    "### Standard Deviation\n",
    "The standard deviation tells you how far the data - on average - is diffrent from the mean.<br>\n",
    "If you selected a few random values from a dataset most of them should fall in: the mean ± the standard deviation <br>\n",
    "If you have a small standard deviation then the dataset has very similar values throughout.<br>\n",
    "If you have a large standard deviation then the dataset has very diffrent values throughout.<br><br>\n",
    "\n",
    "In the cell below before the \"(\" type np.std and run the cell to calculate the standard deviation."
   ]
  },
  {
   "cell_type": "code",
   "execution_count": 66,
   "id": "f0201ca1",
   "metadata": {},
   "outputs": [
    {
     "name": "stdout",
     "output_type": "stream",
     "text": [
      "This is the Standard_deviation: 1.0175798939541356\n"
     ]
    }
   ],
   "source": [
    "Standard_deviation = np.std(RFA, ddof=1)\n",
    "#Standard_deviation = (RFA, ddof=1)\n",
    "print(\"This is the Standard_deviation:\", Standard_deviation)"
   ]
  },
  {
   "cell_type": "markdown",
   "id": "febdb35b",
   "metadata": {},
   "source": [
    "### Anomalies\n",
    "The anomaly value is calculated by finding the diffrence between the Climate Mean and the Observed rainfall. <br>\n",
    "The observed rainfall is the original RFA dataset. <br>\n",
    "The aim here is to create a new array that contains the anomaly value for each year.<br>\n",
    "After \" X =\" fill in the appropriate variable name from these choices: 1. Standard_Deviation, 2. RFA, 3. Climate_Mean"
   ]
  },
  {
   "cell_type": "code",
   "execution_count": 67,
   "id": "0c632e9b",
   "metadata": {},
   "outputs": [
    {
     "name": "stdout",
     "output_type": "stream",
     "text": [
      "The Anomaly Array: [-0.8908333333333331, 0.519166666666667, -0.4608333333333332, -0.9008333333333332, 3.1491666666666664, -1.080833333333333, -0.3708333333333331, -0.0708333333333333, -0.42083333333333317, 0.539166666666667, -0.5108333333333333, -0.01083333333333325, -1.2608333333333333, 1.8991666666666664, -0.5808333333333331, -0.4308333333333332, 0.23916666666666675, -0.8608333333333331, 1.4491666666666667, 0.30916666666666703, -0.16083333333333316, -0.10083333333333311, 0.7191666666666667, -0.7108333333333332]\n"
     ]
    }
   ],
   "source": [
    "X = Climate_Mean\n",
    "RFA_anom = [item - X for item in RFA]\n",
    "print(\"The Anomaly Array:\",RFA_anom)"
   ]
  },
  {
   "cell_type": "markdown",
   "id": "f355f580",
   "metadata": {},
   "source": [
    "## Terciles\n",
    "Terciles split the data into 3 even sections. <br>\n",
    "Each section will have a threshold qualifyier that a value from the dataset can be compared to<br>\n",
    "From this each value in the dataset can be put into 1 of 3 catagories. <br>"
   ]
  },
  {
   "cell_type": "code",
   "execution_count": 68,
   "id": "119472a0",
   "metadata": {},
   "outputs": [
    {
     "name": "stdout",
     "output_type": "stream",
     "text": [
      "2.4833329499999994\n",
      "1.933333295\n"
     ]
    }
   ],
   "source": [
    "RFA_upper = np.percentile(RFA, 66.66666)\n",
    "RFA_lower = np.percentile(RFA, 33.33333)\n",
    "print(RFA_upper)\n",
    "print(RFA_lower)"
   ]
  },
  {
   "cell_type": "markdown",
   "id": "b6a398dd",
   "metadata": {},
   "source": [
    "We can see the upper tercile is defined by 2.48, <br>\n",
    "If a value in the RFA dataset falls above 2.48 it is in Catagory Upper.<br>\n",
    "<br>\n",
    "The lower tercile is defined by 1.93, <br>\n",
    "If a value in the RFA dataset falls below 1.93 it is in the Catagory Lower. <br>\n",
    "<br>\n",
    "If it falls between 1.93-2.48 it is in the middle tercile."
   ]
  },
  {
   "cell_type": "code",
   "execution_count": 73,
   "id": "1dc33189",
   "metadata": {},
   "outputs": [
    {
     "name": "stdout",
     "output_type": "stream",
     "text": [
      "This is the Catagories each RNA value falls into: [1. 3. 2. 1. 3. 1. 2. 2. 2. 3. 1. 2. 1. 3. 1. 2. 3. 1. 3. 3. 2. 2. 3. 1.]\n"
     ]
    }
   ],
   "source": [
    "#This converts the Array to be able to be used in numpy functions \">\"\n",
    "RFANP = np.array(RFA)\n",
    "\n",
    "# Now we will see if values in the array are greater than RFA_upper (2.48)\n",
    "# If they are they will be turned into a '3'\n",
    "RFANP[RFANP>RFA_upper]= 3\n",
    "\n",
    "#We now repeat this for RFA lower and RFA_middle\n",
    "RFANP[RFANP<RFA_lower]= 1\n",
    "RFANP[(RFANP<RFA_upper)&(RFANP>RFA_lower)]= 2\n",
    "\n",
    "RFA_Catagories = RFANP \n",
    "\n",
    "print(\"This is the Catagories each RNA value falls into:\",RFA_Catagories)"
   ]
  },
  {
   "cell_type": "markdown",
   "id": "31ee694d",
   "metadata": {},
   "source": [
    "## Plotting\n",
    "Now we have all the data we can create a plot. <br>\n",
    "We will plot the Anomaly data against the years. <br>"
   ]
  },
  {
   "cell_type": "code",
   "execution_count": null,
   "id": "c1a24c00",
   "metadata": {},
   "outputs": [
    {
     "data": {
      "image/png": "[encoded data removed]",
      "text/plain": [
       "<Figure size 1200x600 with 2 Axes>"
      ]
     },
     "metadata": {},
     "output_type": "display_data"
    }
   ],
   "source": [
    "\n",
    "#First we'll call in all the data\n",
    "#Starting with the date array that contains all the years in order\n",
    "years = np.array(date) \n",
    "\n",
    "#Next well call in the RFA Anomalies array we calculated in the Section: Anomalies\n",
    "anomalies = RFA_anom  \n",
    "\n",
    "#Next the array that tells you what tercile the data is in - we just calculated this above\n",
    "terciles = RFA_Catagories  \n",
    "\n",
    "\n",
    "\n",
    "#Next we'll decide a size for the plot. \n",
    "fig, ax1 = plt.subplots(figsize=(12, 6))\n",
    "\n",
    "# Now we'll plot the anomalies data as bars. \n",
    "# It will go up to the value outside of the mean and cover the year it represents\n",
    "# Years is the x-axis and Anomalies is the y-axis\n",
    "ax1.bar(years, anomalies, color='red', label='Anomaly')\n",
    "\n",
    "#This will label the axis and set the limits \n",
    "ax1.set_xlabel('Year')\n",
    "ax1.set_ylabel('Anomaly (mm/day)', color='red')\n",
    "ax1.set_ylim(-3.5, 3.5)\n",
    "\n",
    "# On top of this plot we'll plot the catagory each anomaly belongs to\n",
    "# First we set the x-axis to match that of the anomaly plot\n",
    "ax2 = ax1.twinx()\n",
    "\n",
    "#Now we plot the data. \n",
    "#X-axis is years again, but the y-axis is tercile catagory.\n",
    "ax2.scatter(years, terciles, color='black', marker='d', label='Tercile category')\n",
    "\n",
    "#This will set the matching labels and information for the plot\n",
    "ax2.set_ylabel('Tercile category\\n(1=below; 2=average; 3=upper)', color='black')\n",
    "ax2.set_ylim(0.5, 3.5)\n",
    "ax2.set_yticks([1, 2, 3])\n",
    "\n",
    "# This sets the title and asks for the plot to be printed \n",
    "plt.title('Observed rain anomaly and tercile category:\\nCHIRPS_Obs_OND / Reg. Kenya: 6N-5S; 33-42E\\nClimate mean = 2.41 mm/day / stdev = 1.02')\n",
    "fig.tight_layout()\n",
    "plt.show()\n"
   ]
  },
  {
   "cell_type": "markdown",
   "id": "6fa5a943",
   "metadata": {},
   "source": [
    "# You have now finished EX 1; Please refer to the powerpoint on what to do next. \n",
    "## Copy the image of the plot into the powerpoint "
   ]
  },
  {
   "cell_type": "markdown",
   "id": "b13f9099",
   "metadata": {},
   "source": []
  }
 ],
 "metadata": {
  "kernelspec": {
   "display_name": "Python 3",
   "language": "python",
   "name": "python3"
  },
  "language_info": {
   "codemirror_mode": {
    "name": "ipython",
    "version": 3
   },
   "file_extension": ".py",
   "mimetype": "text/x-python",
   "name": "python",
   "nbconvert_exporter": "python",
   "pygments_lexer": "ipython3",
   "version": "3.12.7"
  }
 },
 "nbformat": 4,
 "nbformat_minor": 5
}
